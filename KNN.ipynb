{
  "nbformat": 4,
  "nbformat_minor": 0,
  "metadata": {
    "colab": {
      "name": "KNN.ipynb",
      "provenance": []
    },
    "kernelspec": {
      "display_name": "Python 3",
      "language": "python",
      "name": "python3"
    }
  },
  "cells": [
    {
      "cell_type": "code",
      "metadata": {
        "id": "Q2avxUiFi1fq",
        "colab_type": "code",
        "outputId": "d4ae3cda-897d-433b-f063-f27d84b6756b",
        "colab": {
          "base_uri": "https://localhost:8080/",
          "height": 84
        }
      },
      "source": [
        "# BLOCK 0 : Pre-requisite Installs\n",
        "!pip install fuzzywuzzy"
      ],
      "execution_count": 0,
      "outputs": [
        {
          "output_type": "stream",
          "text": [
            "Collecting fuzzywuzzy\n",
            "  Downloading https://files.pythonhosted.org/packages/d8/f1/5a267addb30ab7eaa1beab2b9323073815da4551076554ecc890a3595ec9/fuzzywuzzy-0.17.0-py2.py3-none-any.whl\n",
            "Installing collected packages: fuzzywuzzy\n",
            "Successfully installed fuzzywuzzy-0.17.0\n"
          ],
          "name": "stdout"
        }
      ]
    },
    {
      "cell_type": "code",
      "metadata": {
        "id": "CsLK_ClYu-B2",
        "colab_type": "code",
        "outputId": "c98260b3-0bf2-4e15-b99a-d6b9cc772309",
        "colab": {
          "base_uri": "https://localhost:8080/",
          "height": 84
        }
      },
      "source": [
        "!git clone https://github.com/subha12k/data.git"
      ],
      "execution_count": 0,
      "outputs": [
        {
          "output_type": "stream",
          "text": [
            "Cloning into 'data'...\n",
            "remote: Enumerating objects: 7, done.\u001b[K\n",
            "remote: Total 7 (delta 0), reused 0 (delta 0), pack-reused 7\u001b[K\n",
            "Unpacking objects: 100% (7/7), done.\n"
          ],
          "name": "stdout"
        }
      ]
    },
    {
      "cell_type": "code",
      "metadata": {
        "colab_type": "code",
        "id": "jn6TDjPOZa3l",
        "outputId": "845ce617-ad73-4f73-dcad-3eff8b00e3fd",
        "colab": {
          "base_uri": "https://localhost:8080/",
          "height": 50
        }
      },
      "source": [
        "# BLOCK 1 : Import Modules \n",
        "\n",
        "import os\n",
        "import time\n",
        "\n",
        "t1=time.time()\n",
        "\n",
        "# Data Science Imports\n",
        "import math\n",
        "import numpy as np\n",
        "import pandas as pd\n",
        "from IPython.display import Markdown\n",
        "from scipy.sparse import csr_matrix\n",
        "from sklearn.neighbors import NearestNeighbors\n",
        "\n",
        "# Utility Imports\n",
        "from fuzzywuzzy import fuzz\n",
        "\n",
        "# Visualization Imports\n",
        "import seaborn as sns\n",
        "import matplotlib.pyplot as plt\n",
        "plt.style.use('ggplot')\n",
        "%matplotlib inline\n"
      ],
      "execution_count": 0,
      "outputs": [
        {
          "output_type": "stream",
          "text": [
            "/usr/local/lib/python3.6/dist-packages/fuzzywuzzy/fuzz.py:11: UserWarning: Using slow pure-python SequenceMatcher. Install python-Levenshtein to remove this warning\n",
            "  warnings.warn('Using slow pure-python SequenceMatcher. Install python-Levenshtein to remove this warning')\n"
          ],
          "name": "stderr"
        }
      ]
    },
    {
      "cell_type": "code",
      "metadata": {
        "id": "2mr9HndR2P57",
        "colab_type": "code",
        "colab": {}
      },
      "source": [
        "data_path = os.path.join('/content', 'data')"
      ],
      "execution_count": 0,
      "outputs": []
    },
    {
      "cell_type": "code",
      "metadata": {
        "colab_type": "code",
        "id": "2tA6I_zcZa3q",
        "outputId": "4d89bca5-fe67-45ba-e2c0-c274a7a515b2",
        "colab": {
          "base_uri": "https://localhost:8080/",
          "height": 286
        }
      },
      "source": [
        "# BLOCK 2 : Read In Data, Sample A Few Movies \n",
        "\n",
        "LARGE_DATASET = False\n",
        "\n",
        "movies_filename = 'movies.csv'\n",
        "ratings_filename = 'ratings.csv'\n",
        "\n",
        "df_movies = pd.read_csv(os.path.join(data_path,movies_filename),\n",
        "                        usecols=['movieId', 'title'],\n",
        "                        dtype={'movieId': 'int32', 'title': 'str'})\n",
        "\n",
        "df_ratings = pd.read_csv(os.path.join(data_path,ratings_filename),\n",
        "                         usecols=['userId', 'movieId', 'rating'],\n",
        "                         dtype={'userId': 'int32', 'movieId': 'int32', 'rating': 'float32'})\n",
        "\n",
        "num_users = len(df_ratings.userId.unique())\n",
        "num_items = len(df_ratings.movieId.unique())\n",
        "print('There are {} unique users and {} unique movies in this data set \\n'.format(num_users, num_items))\n",
        "\n",
        "print(df_movies.head().to_string())\n",
        "print(\"\\n\")\n",
        "print(df_ratings.head().to_string())\n"
      ],
      "execution_count": 0,
      "outputs": [
        {
          "output_type": "stream",
          "text": [
            "There are 610 unique users and 9724 unique movies in this data set \n",
            "\n",
            "   movieId                               title\n",
            "0        1                    Toy Story (1995)\n",
            "1        2                      Jumanji (1995)\n",
            "2        3             Grumpier Old Men (1995)\n",
            "3        4            Waiting to Exhale (1995)\n",
            "4        5  Father of the Bride Part II (1995)\n",
            "\n",
            "\n",
            "   userId  movieId  rating\n",
            "0       1        1     4.0\n",
            "1       1        3     4.0\n",
            "2       1        6     4.0\n",
            "3       1       47     5.0\n",
            "4       1       50     5.0\n"
          ],
          "name": "stdout"
        }
      ]
    },
    {
      "cell_type": "code",
      "metadata": {
        "colab_type": "code",
        "id": "qWxTyhq1Za4J",
        "outputId": "70aa9d7e-f052-4915-de37-c6b3b2fb3ce3",
        "colab": {
          "base_uri": "https://localhost:8080/",
          "height": 543
        }
      },
      "source": [
        "# BLOCK 3 : Visualise Frequency And Distribution Of Each Rating\n",
        "\n",
        "df_ratings_cnt_tmp = pd.DataFrame(df_ratings.groupby('rating').size(), columns=['count'])\n",
        "\n",
        "# There are a lot more counts in rating of zero\n",
        "total_cnt = num_users * num_items\n",
        "rating_zero_cnt = total_cnt - df_ratings.shape[0]\n",
        "\n",
        "# Append counts of zero rating to df_ratings_cnt\n",
        "df_ratings_cnt = df_ratings_cnt_tmp.append(\n",
        "    pd.DataFrame({'count': rating_zero_cnt}, index=[0.0]),\n",
        "    verify_integrity=True,\n",
        ").sort_index()\n",
        "\n",
        "df_ratings_cnt['log_count'] = np.log(df_ratings_cnt['count'])\n",
        "\n",
        "ax = df_ratings_cnt[['count']].reset_index().rename(columns={'index': 'rating score'}).plot(\n",
        "    x='rating score',\n",
        "    y='count',\n",
        "    kind='bar',\n",
        "    figsize=(12, 8),\n",
        "    title='Count for Each Rating Score (in Log Scale)',\n",
        "    logy=True,\n",
        "    fontsize=12,\n",
        ")\n",
        "ax.set_xlabel(\"movie rating score\")\n",
        "ax.set_ylabel(\"number of ratings\")"
      ],
      "execution_count": 0,
      "outputs": [
        {
          "output_type": "execute_result",
          "data": {
            "text/plain": [
              "Text(0, 0.5, 'number of ratings')"
            ]
          },
          "metadata": {
            "tags": []
          },
          "execution_count": 11
        },
        {
          "output_type": "display_data",
          "data": {
            "image/png": "[encoded data removed]",
            "text/plain": [
              "<Figure size 864x576 with 1 Axes>"
            ]
          },
          "metadata": {
            "tags": []
          }
        }
      ]
    },
    {
      "cell_type": "markdown",
      "metadata": {
        "colab_type": "text",
        "id": "NbkexuZfZa4W"
      },
      "source": [
        "Note that empty entries in the ratings matrix are assumed zero. The distribution of ratings among movies is long-tailed. That is, only a small fraction of the items are rated frequently.  This results in a highly skewed distribution of the ratings."
      ]
    },
    {
      "cell_type": "code",
      "metadata": {
        "id": "-cESZTclQ88m",
        "colab_type": "code",
        "colab": {}
      },
      "source": [
        "# BLOCK 4 : Write The Rating Matrix Builder\n",
        "\n",
        "def get_rating_matrix(X):\n",
        "    \"\"\"Function to generate a ratings matrx and mappings for\n",
        "    the user and item ids to the row and column indices\n",
        "\n",
        "    Parameters\n",
        "    ----------\n",
        "    X : pandas.DataFrame, shape=(n_ratings,>=3)\n",
        "        First 3 columns must be in order of user, item, rating.\n",
        "\n",
        "    Returns\n",
        "    -------\n",
        "    rating_matrix : 2d numpy array, shape=(n_users, n_items)\n",
        "    user_map : pandas Series, shape=(n_users,)\n",
        "        Mapping from the original user id to an integer in the range [0,n_users)\n",
        "    item_map : pandas Series, shape=(n_items,)\n",
        "        Mapping from the original item id to an integer in the range [0,n_items)\n",
        "    \"\"\"\n",
        "    user_col, item_col, rating_col = X.columns[:3]\n",
        "    rating = X[rating_col]\n",
        "    user_map = pd.Series(\n",
        "        index=np.unique(X[user_col]),\n",
        "        data=np.arange(X[user_col].nunique()),\n",
        "        name='user_map',\n",
        "    )\n",
        "    item_map = pd.Series(\n",
        "        index=np.unique(X[item_col]),\n",
        "        data=np.arange(X[item_col].nunique()),\n",
        "        name='columns_map',\n",
        "    )\n",
        "    user_inds = X[user_col].map(user_map)\n",
        "    item_inds = X[item_col].map(item_map)\n",
        "    rating_matrix = (\n",
        "        pd.pivot_table(\n",
        "            data=X,\n",
        "            values=rating_col,\n",
        "            index=user_inds,\n",
        "            columns=item_inds,\n",
        "        )\n",
        "        .fillna(0)\n",
        "        .values\n",
        "    )\n",
        "    return rating_matrix, user_map, item_map"
      ],
      "execution_count": 0,
      "outputs": []
    },
    {
      "cell_type": "code",
      "metadata": {
        "id": "WpJVBYcBQ88p",
        "colab_type": "code",
        "outputId": "6fcee413-28e9-4d12-9b42-156ebcddc18a",
        "colab": {
          "base_uri": "https://localhost:8080/",
          "height": 93
        }
      },
      "source": [
        "# BLOCK 5 : Visualise Sparsity Of Matrix\n",
        "\n",
        "plt.rcParams[\"figure.figsize\"] = (20,3)\n",
        "\n",
        "rating_matrix, user_map, item_map = get_rating_matrix(df_ratings)\n",
        "with plt.style.context('seaborn-white'):\n",
        "    rating_matrix_binary = rating_matrix > 0\n",
        "    plt.figure(figsize=(10,100))\n",
        "    plt.imshow(rating_matrix_binary)\n",
        "    plt.xlabel('Movie')\n",
        "    plt.ylabel('User')\n",
        "    plt.yscale('linear')\n",
        "    plt.ylim(0,500)\n",
        "    plt.show()\n"
      ],
      "execution_count": 0,
      "outputs": [
        {
          "output_type": "display_data",
          "data": {
            "image/png": "[encoded data removed]",
            "text/plain": [
              "<Figure size 720x7200 with 1 Axes>"
            ]
          },
          "metadata": {
            "tags": []
          }
        }
      ]
    },
    {
      "cell_type": "code",
      "metadata": {
        "colab_type": "code",
        "id": "6cRCH2ghZa4d",
        "outputId": "7500a435-8a29-4310-bbf9-43e10dbb0936",
        "colab": {
          "base_uri": "https://localhost:8080/",
          "height": 130
        }
      },
      "source": [
        "# BLOCK 6 : Data Reduction - Drop Movies With Less No: Of Ratings\n",
        "\n",
        "df_movies_cnt = pd.DataFrame(df_ratings.groupby('movieId').size(), columns=['count'])\n",
        "popularity_thres = 50\n",
        "popular_movies = list(set(df_movies_cnt.query('count >= @popularity_thres').index))\n",
        "df_ratings_drop_movies = df_ratings[df_ratings.movieId.isin(popular_movies)]\n",
        "print('shape of original ratings data: ', df_ratings.shape)\n",
        "print('shape of ratings data after dropping unpopular movies: ', df_ratings_drop_movies.shape)\n",
        "\n",
        "rating_matrix, user_map, item_map = get_rating_matrix(df_ratings_drop_movies)\n",
        "with plt.style.context('seaborn-white'):\n",
        "    rating_matrix_binary = rating_matrix > 0\n",
        "    plt.figure(figsize=(0.60,0.60))\n",
        "    plt.imshow(rating_matrix_binary)\n",
        "    plt.xlabel('Movie')\n",
        "    plt.ylabel('User')\n",
        "    plt.yscale('linear')\n",
        "    plt.ylim(0,500)\n",
        "    plt.show()\n"
      ],
      "execution_count": 0,
      "outputs": [
        {
          "output_type": "stream",
          "text": [
            "shape of original ratings data:  (100836, 3)\n",
            "shape of ratings data after dropping unpopular movies:  (41360, 3)\n"
          ],
          "name": "stdout"
        },
        {
          "output_type": "display_data",
          "data": {
            "image/png": "[encoded data removed]",
            "text/plain": [
              "<Figure size 43.2x43.2 with 1 Axes>"
            ]
          },
          "metadata": {
            "tags": []
          }
        }
      ]
    },
    {
      "cell_type": "code",
      "metadata": {
        "colab_type": "code",
        "id": "-WX9mwc6Za4s",
        "outputId": "2cdd509c-15cf-4863-c742-b877ce58135e",
        "colab": {
          "base_uri": "https://localhost:8080/",
          "height": 50
        }
      },
      "source": [
        "# BLOCK 7: Reshape Data\n",
        "\n",
        "# Pivot And Create Movie-User Matrix\n",
        "df_users_cnt = pd.DataFrame(df_ratings_drop_movies.groupby('userId').size(), columns=['count'])\n",
        "\n",
        "ratings_thres = 50\n",
        "active_users = list(set(df_users_cnt.query('count >= @ratings_thres').index))\n",
        "df_ratings_drop_users = df_ratings_drop_movies[df_ratings_drop_movies.userId.isin(active_users)]\n",
        "print('shape of original ratings data: ', df_ratings.shape)\n",
        "print('shape of ratings data after dropping both unpopular movies and inactive users: ', df_ratings_drop_users.shape)\n",
        "\n",
        "movie_user_mat = df_ratings_drop_users.pivot(index='movieId', columns='userId', values='rating').fillna(0)\n",
        "\n",
        "# Create Mapper From Movie Title To Index\n",
        "movie_to_idx = {\n",
        "    movie: i for i, movie in \n",
        "    enumerate(list(df_movies.set_index('movieId').loc[movie_user_mat.index].title))\n",
        "}\n",
        "\n",
        "# Transform Matrix To Scipy Sparse Matrix\n",
        "movie_user_mat_sparse = csr_matrix(movie_user_mat.values)"
      ],
      "execution_count": 0,
      "outputs": [
        {
          "output_type": "stream",
          "text": [
            "shape of original ratings data:  (100836, 3)\n",
            "shape of ratings data after dropping both unpopular movies and inactive users:  (32999, 3)\n"
          ],
          "name": "stdout"
        }
      ]
    },
    {
      "cell_type": "code",
      "metadata": {
        "colab_type": "code",
        "id": "YsnEVvlEZa4v",
        "outputId": "de5cd097-9999-4980-df83-2186e60fee2f",
        "colab": {
          "base_uri": "https://localhost:8080/",
          "height": 84
        }
      },
      "source": [
        "# BLOCK 8: Train Model\n",
        "\n",
        "%env JOBLIB_TEMP_FOLDER=/tmp\n",
        "\n",
        "# Define Model - The function called is imported from scikit-learn\n",
        "model_knn = NearestNeighbors(metric='cosine', algorithm='brute', n_neighbors=20, n_jobs=-1)\n",
        "# Fit Model To Data\n",
        "model_knn.fit(movie_user_mat_sparse)"
      ],
      "execution_count": 0,
      "outputs": [
        {
          "output_type": "stream",
          "text": [
            "env: JOBLIB_TEMP_FOLDER=/tmp\n"
          ],
          "name": "stdout"
        },
        {
          "output_type": "execute_result",
          "data": {
            "text/plain": [
              "NearestNeighbors(algorithm='brute', leaf_size=30, metric='cosine',\n",
              "                 metric_params=None, n_jobs=-1, n_neighbors=20, p=2,\n",
              "                 radius=1.0)"
            ]
          },
          "metadata": {
            "tags": []
          },
          "execution_count": 20
        }
      ]
    },
    {
      "cell_type": "code",
      "metadata": {
        "colab_type": "code",
        "id": "eYRKKk9FZa4y",
        "colab": {}
      },
      "source": [
        "# BLOCK 9 : Define Fuzzy Matching And Make_Recommendation Functions For Movies\n",
        "\n",
        "def fuzzy_matching(mapper, fav_movie, verbose=True):\n",
        "    \"\"\"\n",
        "    return the closest match via fuzzy ratio. \n",
        "    \n",
        "    Parameters\n",
        "    ----------    \n",
        "       mapper:  dict, map movie title name to index of the movie in data\n",
        "    fav_movie:  str, movie name\n",
        "      verbose:  bool, print log if True\n",
        "\n",
        "       Return:  index of the closest match\n",
        "    \"\"\"\n",
        "    match_tuple = []\n",
        "    # get match\n",
        "    for title, idx in mapper.items():\n",
        "        ratio = fuzz.ratio(title.lower(), fav_movie.lower())\n",
        "        if ratio >= 60:\n",
        "            match_tuple.append((title, idx, ratio))\n",
        "    # sort\n",
        "    match_tuple = sorted(match_tuple, key=lambda x: x[2])[::-1]\n",
        "    if not match_tuple:\n",
        "        print('Oops! No match is found')\n",
        "        return\n",
        "    if verbose:\n",
        "        print('Found possible matches in our database: {0}\\n'.format([x[0] for x in match_tuple]))\n",
        "    return match_tuple[0][1]\n",
        "\n",
        "def make_recommendation(model_knn, data, mapper, fav_movie, n_recommendations):\n",
        "    \"\"\"\n",
        "    return top n similar movie recommendations \n",
        "\n",
        "    Parameters\n",
        "    ----------\n",
        "            model_knn: knn model\n",
        "                 data: movie-user ratings matrix\n",
        "               mapper: dict, maps movie title name to index of the movie in the ratings matrix\n",
        "            fav_movie: str, movie name\n",
        "    n_recommendations: int, top n recommendations\n",
        "\n",
        "               Return: list of top n similar movie recommendations\n",
        "    \"\"\"\n",
        "    # fit\n",
        "    model_knn.fit(data)\n",
        "    # get input movie index\n",
        "    print('You have input movie:', fav_movie)\n",
        "    idx = fuzzy_matching(mapper, fav_movie, verbose=True)\n",
        "    # inference\n",
        "    distances, indices = model_knn.kneighbors(data[idx], n_neighbors=n_recommendations+1)\n",
        "    # get list of raw idx of recommendations\n",
        "    raw_recommends = \\\n",
        "        sorted(list(zip(indices.squeeze().tolist(), distances.squeeze().tolist())), key=lambda x: x[1])[:0:-1]\n",
        "    # get reverse mapper\n",
        "    reverse_mapper = {v: k for k, v in mapper.items()}\n",
        "    # print recommendations\n",
        "    print('Recommendations for {}:'.format(fav_movie))\n",
        "    for i, (idx, dist) in enumerate(raw_recommends):\n",
        "        print('{0}: {1}, with distance of {2}'.format(i+1, reverse_mapper[idx], dist))\n",
        "        "
      ],
      "execution_count": 0,
      "outputs": []
    },
    {
      "cell_type": "code",
      "metadata": {
        "colab_type": "code",
        "id": "UQG_d9BuZa4z",
        "outputId": "4dfaf585-01ff-4169-9013-5f0648affc3c",
        "colab": {
          "base_uri": "https://localhost:8080/",
          "height": 286
        }
      },
      "source": [
        "# BLOCK 10 : Let's Make Some Recommendations!\n",
        "\n",
        "my_favorite = 'Lion King'\n",
        "# 'Finding Nemo' 'Dark Knight' 'Avatar' 'Up' 'Inception' 'Beautiful Mind' 'Iron Man'\n",
        "\n",
        "make_recommendation(\n",
        "    model_knn=model_knn,\n",
        "    data=movie_user_mat_sparse,\n",
        "    fav_movie=my_favorite,\n",
        "    mapper=movie_to_idx,\n",
        "    n_recommendations=10)\n",
        "print(f'\\n Total time taken for the Recommender System to run is {time.time()-t1}')"
      ],
      "execution_count": 0,
      "outputs": [
        {
          "output_type": "stream",
          "text": [
            "You have input movie: Lion King\n",
            "Found possible matches in our database: ['Lion King, The (1994)']\n",
            "\n",
            "Recommendations for Lion King:\n",
            "1: Ace Ventura: Pet Detective (1994), with distance of 0.3727244734764099\n",
            "2: Snow White and the Seven Dwarfs (1937), with distance of 0.36997926235198975\n",
            "3: Toy Story (1995), with distance of 0.36490362882614136\n",
            "4: Jumanji (1995), with distance of 0.36353474855422974\n",
            "5: Mask, The (1994), with distance of 0.33511418104171753\n",
            "6: Jurassic Park (1993), with distance of 0.328410804271698\n",
            "7: Forrest Gump (1994), with distance of 0.3268723487854004\n",
            "8: Mrs. Doubtfire (1993), with distance of 0.3216090202331543\n",
            "9: Beauty and the Beast (1991), with distance of 0.2440967559814453\n",
            "10: Aladdin (1992), with distance of 0.23137885332107544\n",
            "\n",
            " Total time taken for the Recommender System to run is 215.70113730430603\n"
          ],
          "name": "stdout"
        }
      ]
    },
    {
      "cell_type": "markdown",
      "metadata": {
        "colab_type": "text",
        "id": "IfRPGktDZa41"
      },
      "source": [
        "KNN model recommendations above"
      ]
    },
    {
      "cell_type": "code",
      "metadata": {
        "id": "No6A8T6ntInE",
        "colab_type": "code",
        "colab": {}
      },
      "source": [
        ""
      ],
      "execution_count": 0,
      "outputs": []
    }
  ]
}